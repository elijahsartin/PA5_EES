{
 "cells": [
  {
   "cell_type": "markdown",
   "id": "781d7175",
   "metadata": {},
   "source": [
    "# Programming Assignment 5\n",
    "## Elijah Sartin\n",
    "## 0.1\n",
    "## Fall 2021 - Section 1"
   ]
  },
  {
   "cell_type": "markdown",
   "id": "6e6909e3",
   "metadata": {},
   "source": [
    "### a. Language Translator\n",
    "#### write a program that implements a translation dictionary using a Python dictionary data structure that maps 20 English words to 20 words in another language (e.g. Spanish, German, Farsi, Arabic, Japanese, etc.). The keys in your dictionary should be English (all lower case) and your values should be in your target language (also all lower case). Your program should ask for words in English to translate to your target language until the user enters the number zero (0). Your program should provide input/output exactly as the output below:"
   ]
  },
  {
   "cell_type": "code",
   "execution_count": 2,
   "id": "0ae36832",
   "metadata": {},
   "outputs": [
    {
     "name": "stdout",
     "output_type": "stream",
     "text": [
      "Enter a word to translate from English to French (enter 0 to stop):cabbage\n",
      "The French word for cabbage is choux.\n",
      "Enter a word to translate from English to French (enter 0 to stop):chair\n",
      "The French word for chair is not in this dictionary.\n",
      "Enter a word to translate from English to French (enter 0 to stop):friend\n",
      "The French word for friend is ami.\n",
      "Enter a word to translate from English to French (enter 0 to stop):bulldog\n",
      "The French word for bulldog is bouledogue.\n",
      "Enter a word to translate from English to French (enter 0 to stop):0\n"
     ]
    }
   ],
   "source": [
    "translator={'hello' : 'bonjour',\n",
    "           'goodbye' : 'au revoir',\n",
    "           'cabbage' : 'choux',\n",
    "           'little' : 'peu',\n",
    "           'pants' : 'les pantalons',\n",
    "           'shirt' : 'la chemise',\n",
    "           'plate' : 'assiette',\n",
    "           'couch' : 'canapé',\n",
    "           'television' : 'télévision',\n",
    "           'sad' : 'triste',\n",
    "           'brother' : 'frère',\n",
    "           'sister' : 'sœur',\n",
    "           'dad' : 'père',\n",
    "           'mom' : 'maman',\n",
    "           'friend' : 'ami',\n",
    "           'bulldog' : 'bouledogue',\n",
    "           'dodgers' : 'les cagnards',\n",
    "           'king' : 'roi',\n",
    "           'vizsla' : 'vizsla',\n",
    "           'house' : 'loger'}\n",
    "\n",
    "englishword = str()\n",
    "\n",
    "while englishword != '0':\n",
    "    englishword=str(input('Enter a word to translate from English to French (enter 0 to stop):'))\n",
    "    \n",
    "    if englishword != '0':\n",
    "        print('The French word for {} is {}.'.format(englishword,(translator.get(englishword,'not in this dictionary'))))\n",
    "        \n",
    "    else:\n",
    "        exit()\n"
   ]
  },
  {
   "cell_type": "markdown",
   "id": "dad8f469",
   "metadata": {},
   "source": [
    "### b. Temperature Converter\n",
    "#### create a weather dictionary that will contain temperature data at month of September of Louisville, Kentucky. The key will be the say of the month and the value will be the temperature in Fahrenheit. 1. Access each temperature values which is in Fahrenheit from the dictionary and convert it to Celsius and return to the original dictionary. 2. Find the coolest and second warmest day of the month (tip: think how to get list from dict and use list functions)"
   ]
  },
  {
   "cell_type": "code",
   "execution_count": 5,
   "id": "558bc3d7",
   "metadata": {},
   "outputs": [
    {
     "name": "stdout",
     "output_type": "stream",
     "text": [
      "{1: 27.77777777777778, 2: 27.222222222222225, 3: 27.222222222222225, 4: 27.222222222222225, 5: 25.0, 6: 28.88888888888889, 7: 28.88888888888889, 8: 26.11111111111111, 9: 25.0, 10: 26.11111111111111, 11: 27.77777777777778, 12: 30.0, 13: 31.111111111111114, 14: 30.0, 15: 26.11111111111111, 16: 27.222222222222225, 17: 30.0, 18: 30.0, 19: 28.88888888888889, 20: 23.88888888888889, 21: 25.0, 22: 16.11111111111111, 23: 20.0, 24: 22.77777777777778, 25: 23.88888888888889, 27: 27.77777777777778, 28: 28.88888888888889, 29: 30.0, 30: 27.77777777777778}\n"
     ]
    }
   ],
   "source": [
    "weather={1 : 82,\n",
    "        2 : 81,\n",
    "        3 : 81,\n",
    "        4 : 81,\n",
    "        5 : 77,\n",
    "        6 : 84,\n",
    "        7 : 84,\n",
    "        8 : 79,\n",
    "        9 : 77,\n",
    "        10 : 79,\n",
    "        11 : 82,\n",
    "        12 : 86,\n",
    "        13 : 88,\n",
    "        14 : 86,\n",
    "        15 : 79,\n",
    "        16 : 81,\n",
    "        17 : 86,\n",
    "        18 : 86,\n",
    "        19 : 84,\n",
    "        20 : 75,\n",
    "        21 : 77,\n",
    "        22 : 61,\n",
    "        23 : 68,\n",
    "        24 : 73,\n",
    "        25 : 70,\n",
    "        25 : 75,\n",
    "        27 : 82,\n",
    "        28 : 84,\n",
    "        29 : 86,\n",
    "        30 : 82}\n",
    "weather = {day : (5/9)*(temp-32) for (day,temp) in weather.items()}\n",
    "print(weather)"
   ]
  },
  {
   "cell_type": "code",
   "execution_count": 19,
   "id": "ec4c7fc5",
   "metadata": {},
   "outputs": [
    {
     "name": "stdout",
     "output_type": "stream",
     "text": [
      "[(22, 16.11111111111111), (23, 20.0), (24, 22.77777777777778), (20, 23.88888888888889), (25, 23.88888888888889), (5, 25.0), (9, 25.0), (21, 25.0), (8, 26.11111111111111), (10, 26.11111111111111), (15, 26.11111111111111), (2, 27.222222222222225), (3, 27.222222222222225), (4, 27.222222222222225), (16, 27.222222222222225), (1, 27.77777777777778), (11, 27.77777777777778), (27, 27.77777777777778), (30, 27.77777777777778), (6, 28.88888888888889), (7, 28.88888888888889), (19, 28.88888888888889), (28, 28.88888888888889), (12, 30.0), (14, 30.0), (17, 30.0), (18, 30.0), (29, 30.0), (13, 31.111111111111114)]\n",
      "(22, 16.11111111111111)\n",
      "(29, 30.0)\n"
     ]
    }
   ],
   "source": [
    "x = list(weather.items())\n",
    "x.sort(key=lambda x: x[1])\n",
    "print(x)\n",
    "print(x[0])\n",
    "print(x[-2])"
   ]
  },
  {
   "cell_type": "markdown",
   "id": "6efadb31",
   "metadata": {},
   "source": [
    "### Explain the following set operations with suitable examples:\n",
    "#### 1. symmetric_difference(^)\n",
    "#### 2. .isdisjoint()\n",
    "#### 3. intersection_update(&=)\n",
    "#### 4. symmetric_difference(^=)\n",
    "#### 5. .remove(), .discard(), .pop()"
   ]
  },
  {
   "cell_type": "code",
   "execution_count": 36,
   "id": "490af9f9",
   "metadata": {},
   "outputs": [
    {
     "data": {
      "text/plain": [
       "{9, 10, 24, 25}"
      ]
     },
     "execution_count": 36,
     "metadata": {},
     "output_type": "execute_result"
    }
   ],
   "source": [
    "# Returns the elements of each set that are not in common with eachother.\n",
    "SetA = {5, 10, 15, 20, 25, 30}\n",
    "SetB = {5, 9, 15, 20, 24, 30}\n",
    "SetA^SetB"
   ]
  },
  {
   "cell_type": "code",
   "execution_count": 25,
   "id": "ca904599",
   "metadata": {},
   "outputs": [
    {
     "name": "stdout",
     "output_type": "stream",
     "text": [
      "False\n",
      "True\n"
     ]
    }
   ],
   "source": [
    "# Returns true if sets have no items in common, false if they do\n",
    "Set1 = {5, 10, 15}\n",
    "Set2 = {15, 20, 25}\n",
    "Set3 = {20, 25, 30}\n",
    "print(Set1.isdisjoint(Set2))\n",
    "print(Set1.isdisjoint(Set3))"
   ]
  },
  {
   "cell_type": "code",
   "execution_count": 27,
   "id": "5df4ffd8",
   "metadata": {},
   "outputs": [
    {
     "data": {
      "text/plain": [
       "{5, 15, 25}"
      ]
     },
     "execution_count": 27,
     "metadata": {},
     "output_type": "execute_result"
    }
   ],
   "source": [
    "# Removes the items that are not present in both sets\n",
    "SetC = {5, 10, 15, 20, 25, 30}\n",
    "SetD = {5, 15, 25, 35}\n",
    "SetC &= SetD\n",
    "SetC"
   ]
  },
  {
   "cell_type": "code",
   "execution_count": 31,
   "id": "f634233b",
   "metadata": {},
   "outputs": [
    {
     "data": {
      "text/plain": [
       "{5, 15, 25, 35, 40, 45, 50}"
      ]
     },
     "execution_count": 31,
     "metadata": {},
     "output_type": "execute_result"
    }
   ],
   "source": [
    "# Returns a set that contains all items from each set, except for the items present in both sets\n",
    "Set4 = {10, 20, 30, 40, 50}\n",
    "Set5 = {5, 10, 15, 20, 25, 30, 35, 45}\n",
    "Set4 ^= Set5\n",
    "Set4"
   ]
  },
  {
   "cell_type": "code",
   "execution_count": 33,
   "id": "f57f5652",
   "metadata": {},
   "outputs": [
    {
     "name": "stdout",
     "output_type": "stream",
     "text": [
      "{10, 15, 20, 25, 30}\n",
      "{15, 20, 25, 30}\n",
      "{15, 20, 25, 30}\n"
     ]
    }
   ],
   "source": [
    "# .remove() and .discard() works the same, but discard will not generate an error\n",
    "# .pop() selects a random element and removes it from the set\n",
    "\n",
    "Set6 = {5, 10, 15, 20, 25, 30}\n",
    "\n",
    "Set6.remove(5)\n",
    "print(Set6)\n",
    "Set6.discard(10)\n",
    "print(Set6)\n",
    "Set6.discard(7)\n",
    "print(Set6)"
   ]
  },
  {
   "cell_type": "code",
   "execution_count": 34,
   "id": "572e94bb",
   "metadata": {},
   "outputs": [
    {
     "ename": "KeyError",
     "evalue": "5",
     "output_type": "error",
     "traceback": [
      "\u001b[0;31m---------------------------------------------------------------------------\u001b[0m",
      "\u001b[0;31mKeyError\u001b[0m                                  Traceback (most recent call last)",
      "\u001b[0;32m<ipython-input-34-a572bb3048c6>\u001b[0m in \u001b[0;36m<module>\u001b[0;34m\u001b[0m\n\u001b[0;32m----> 1\u001b[0;31m \u001b[0mSet6\u001b[0m\u001b[0;34m.\u001b[0m\u001b[0mremove\u001b[0m\u001b[0;34m(\u001b[0m\u001b[0;36m5\u001b[0m\u001b[0;34m)\u001b[0m\u001b[0;34m\u001b[0m\u001b[0;34m\u001b[0m\u001b[0m\n\u001b[0m",
      "\u001b[0;31mKeyError\u001b[0m: 5"
     ]
    }
   ],
   "source": [
    "Set6.remove(5)"
   ]
  },
  {
   "cell_type": "code",
   "execution_count": 35,
   "id": "73d4b667",
   "metadata": {},
   "outputs": [
    {
     "name": "stdout",
     "output_type": "stream",
     "text": [
      "{20, 25, 30}\n"
     ]
    }
   ],
   "source": [
    "Set6.pop()\n",
    "print(Set6)"
   ]
  },
  {
   "cell_type": "code",
   "execution_count": null,
   "id": "c3788370",
   "metadata": {},
   "outputs": [],
   "source": []
  }
 ],
 "metadata": {
  "kernelspec": {
   "display_name": "Python 3",
   "language": "python",
   "name": "python3"
  },
  "language_info": {
   "codemirror_mode": {
    "name": "ipython",
    "version": 3
   },
   "file_extension": ".py",
   "mimetype": "text/x-python",
   "name": "python",
   "nbconvert_exporter": "python",
   "pygments_lexer": "ipython3",
   "version": "3.8.8"
  }
 },
 "nbformat": 4,
 "nbformat_minor": 5
}
